{
 "cells": [
  {
   "cell_type": "markdown",
   "metadata": {},
   "source": [
    "\n",
    "# Statistics Assignment #1: Nick Crawford\n",
    "\n",
    "### Readme\n",
    "> This assignment is written in Python using the data analysis libaries NumPy and Pandas.\n",
    "> This document is static and cannot be edited. To run this interactively, \n",
    "> you can download the .ipynb file and upload it onto https://tmpnb.org/\n",
    "> From there you can interact with the data and the functions.\n",
    "> You can also run the code natively with the anaconda package"
   ]
  },
  {
   "cell_type": "code",
   "execution_count": 4,
   "metadata": {
    "collapsed": false
   },
   "outputs": [],
   "source": [
    "# Import the necessary libaries for data analysis\n",
    "%matplotlib inline\n",
    "import pandas as pd\n",
    "import seaborn as sns\n",
    "\n",
    "# Function to read csv with choosen delimiter \n",
    "data = pd.read_csv('Airbnb_user_sessions.csv', delimiter=\"|\")"
   ]
  },
  {
   "cell_type": "code",
   "execution_count": 5,
   "metadata": {
    "collapsed": false
   },
   "outputs": [
    {
     "data": {
      "text/html": [
       "<div>\n",
       "<table border=\"1\" class=\"dataframe\">\n",
       "  <thead>\n",
       "    <tr style=\"text-align: right;\">\n",
       "      <th></th>\n",
       "      <th>id_visitor</th>\n",
       "      <th>id_session</th>\n",
       "      <th>dim_session_number</th>\n",
       "      <th>dim_user_agent</th>\n",
       "      <th>dim_device_app_combo</th>\n",
       "      <th>ds</th>\n",
       "      <th>ts_min</th>\n",
       "      <th>ts_max</th>\n",
       "      <th>did_search</th>\n",
       "      <th>sent_message</th>\n",
       "      <th>...</th>\n",
       "      <th>next_id_session</th>\n",
       "      <th>next_dim_session_number</th>\n",
       "      <th>next_dim_user_agent</th>\n",
       "      <th>next_dim_device_app_combo</th>\n",
       "      <th>next_ds</th>\n",
       "      <th>next_ts_min</th>\n",
       "      <th>next_ts_max</th>\n",
       "      <th>next_did_search</th>\n",
       "      <th>next_sent_message</th>\n",
       "      <th>next_sent_booking_request</th>\n",
       "    </tr>\n",
       "  </thead>\n",
       "  <tbody>\n",
       "    <tr>\n",
       "      <th>0</th>\n",
       "      <td>ed1329a6-064d-47e9-93bc-93f5a50822df</td>\n",
       "      <td>a8dfb8ed5aa79e00ff14b2da297c9778</td>\n",
       "      <td>83</td>\n",
       "      <td>Airbnb/6.0 iPhone/8.1.2</td>\n",
       "      <td>iPhone - iOS</td>\n",
       "      <td>2015-02-16</td>\n",
       "      <td>2015-02-16 21:50:41</td>\n",
       "      <td>2015-02-16 22:13:42</td>\n",
       "      <td>0</td>\n",
       "      <td>0</td>\n",
       "      <td>...</td>\n",
       "      <td>b812bf56bf89b0b31f4e5b50d0c15ff8</td>\n",
       "      <td>84.0</td>\n",
       "      <td>Mozilla/5.0 (Windows NT 6.1; WOW64) AppleWebKi...</td>\n",
       "      <td>Desktop - Chrome</td>\n",
       "      <td>2015-02-18</td>\n",
       "      <td>2015-02-18 11:57:15</td>\n",
       "      <td>2015-02-18 12:12:48</td>\n",
       "      <td>0.0</td>\n",
       "      <td>0.0</td>\n",
       "      <td>0.0</td>\n",
       "    </tr>\n",
       "    <tr>\n",
       "      <th>1</th>\n",
       "      <td>ed1329a6-064d-47e9-93bc-93f5a50822df</td>\n",
       "      <td>950277daef16f86dc2c05d2b212eea81</td>\n",
       "      <td>84</td>\n",
       "      <td>Mozilla/5.0 (Windows NT 6.1; WOW64) AppleWebKi...</td>\n",
       "      <td>Desktop - Chrome</td>\n",
       "      <td>2015-02-18</td>\n",
       "      <td>2015-02-18 11:57:15</td>\n",
       "      <td>2015-02-18 12:12:48</td>\n",
       "      <td>0</td>\n",
       "      <td>0</td>\n",
       "      <td>...</td>\n",
       "      <td>456083b5f5506ad125d595006819de1d</td>\n",
       "      <td>85.0</td>\n",
       "      <td>Mozilla/5.0 (Windows NT 6.1; WOW64) AppleWebKi...</td>\n",
       "      <td>Desktop - Chrome</td>\n",
       "      <td>2015-02-18</td>\n",
       "      <td>2015-02-18 13:02:13</td>\n",
       "      <td>2015-02-18 13:05:36</td>\n",
       "      <td>0.0</td>\n",
       "      <td>0.0</td>\n",
       "      <td>0.0</td>\n",
       "    </tr>\n",
       "    <tr>\n",
       "      <th>2</th>\n",
       "      <td>ed1329a6-064d-47e9-93bc-93f5a50822df</td>\n",
       "      <td>ee4e2f99dd0c0bef2d40e4bdf880c862</td>\n",
       "      <td>85</td>\n",
       "      <td>Mozilla/5.0 (Windows NT 6.1; WOW64) AppleWebKi...</td>\n",
       "      <td>Desktop - Chrome</td>\n",
       "      <td>2015-02-18</td>\n",
       "      <td>2015-02-18 13:02:13</td>\n",
       "      <td>2015-02-18 13:05:36</td>\n",
       "      <td>0</td>\n",
       "      <td>0</td>\n",
       "      <td>...</td>\n",
       "      <td>94d30e9f3c8f92ae691e49d77a884777</td>\n",
       "      <td>86.0</td>\n",
       "      <td>Mozilla/5.0 (Windows NT 6.1; WOW64) AppleWebKi...</td>\n",
       "      <td>Desktop - Chrome</td>\n",
       "      <td>2015-02-18</td>\n",
       "      <td>2015-02-18 14:18:17</td>\n",
       "      <td>2015-02-18 14:28:47</td>\n",
       "      <td>0.0</td>\n",
       "      <td>0.0</td>\n",
       "      <td>0.0</td>\n",
       "    </tr>\n",
       "    <tr>\n",
       "      <th>3</th>\n",
       "      <td>ed1329a6-064d-47e9-93bc-93f5a50822df</td>\n",
       "      <td>59fbde7b5d35403116c461fa7fc1ab6e</td>\n",
       "      <td>86</td>\n",
       "      <td>Mozilla/5.0 (Windows NT 6.1; WOW64) AppleWebKi...</td>\n",
       "      <td>Desktop - Chrome</td>\n",
       "      <td>2015-02-18</td>\n",
       "      <td>2015-02-18 14:18:17</td>\n",
       "      <td>2015-02-18 14:28:47</td>\n",
       "      <td>0</td>\n",
       "      <td>0</td>\n",
       "      <td>...</td>\n",
       "      <td>ab02139dc81bea4b126cf5043faf53d9</td>\n",
       "      <td>87.0</td>\n",
       "      <td>Mozilla/5.0 (Windows NT 6.1; WOW64) AppleWebKi...</td>\n",
       "      <td>Desktop - Chrome</td>\n",
       "      <td>2015-02-19</td>\n",
       "      <td>2015-02-19 12:24:57</td>\n",
       "      <td>2015-02-19 12:24:59</td>\n",
       "      <td>0.0</td>\n",
       "      <td>0.0</td>\n",
       "      <td>0.0</td>\n",
       "    </tr>\n",
       "    <tr>\n",
       "      <th>4</th>\n",
       "      <td>ed1329a6-064d-47e9-93bc-93f5a50822df</td>\n",
       "      <td>ec8972a3c7256ea4dcba61ee2bd9e3a8</td>\n",
       "      <td>87</td>\n",
       "      <td>Mozilla/5.0 (Windows NT 6.1; WOW64) AppleWebKi...</td>\n",
       "      <td>Desktop - Chrome</td>\n",
       "      <td>2015-02-19</td>\n",
       "      <td>2015-02-19 12:24:57</td>\n",
       "      <td>2015-02-19 12:24:59</td>\n",
       "      <td>0</td>\n",
       "      <td>0</td>\n",
       "      <td>...</td>\n",
       "      <td>6a69db1a5876e9798947f20e2c52bcc8</td>\n",
       "      <td>88.0</td>\n",
       "      <td>Mozilla/5.0 (Windows NT 6.1; WOW64) AppleWebKi...</td>\n",
       "      <td>Desktop - Chrome</td>\n",
       "      <td>2015-02-19</td>\n",
       "      <td>2015-02-19 22:21:58</td>\n",
       "      <td>2015-02-19 22:22:02</td>\n",
       "      <td>0.0</td>\n",
       "      <td>0.0</td>\n",
       "      <td>0.0</td>\n",
       "    </tr>\n",
       "  </tbody>\n",
       "</table>\n",
       "<p>5 rows × 21 columns</p>\n",
       "</div>"
      ],
      "text/plain": [
       "                             id_visitor                        id_session  \\\n",
       "0  ed1329a6-064d-47e9-93bc-93f5a50822df  a8dfb8ed5aa79e00ff14b2da297c9778   \n",
       "1  ed1329a6-064d-47e9-93bc-93f5a50822df  950277daef16f86dc2c05d2b212eea81   \n",
       "2  ed1329a6-064d-47e9-93bc-93f5a50822df  ee4e2f99dd0c0bef2d40e4bdf880c862   \n",
       "3  ed1329a6-064d-47e9-93bc-93f5a50822df  59fbde7b5d35403116c461fa7fc1ab6e   \n",
       "4  ed1329a6-064d-47e9-93bc-93f5a50822df  ec8972a3c7256ea4dcba61ee2bd9e3a8   \n",
       "\n",
       "   dim_session_number                                     dim_user_agent  \\\n",
       "0                  83                            Airbnb/6.0 iPhone/8.1.2   \n",
       "1                  84  Mozilla/5.0 (Windows NT 6.1; WOW64) AppleWebKi...   \n",
       "2                  85  Mozilla/5.0 (Windows NT 6.1; WOW64) AppleWebKi...   \n",
       "3                  86  Mozilla/5.0 (Windows NT 6.1; WOW64) AppleWebKi...   \n",
       "4                  87  Mozilla/5.0 (Windows NT 6.1; WOW64) AppleWebKi...   \n",
       "\n",
       "  dim_device_app_combo          ds               ts_min               ts_max  \\\n",
       "0         iPhone - iOS  2015-02-16  2015-02-16 21:50:41  2015-02-16 22:13:42   \n",
       "1     Desktop - Chrome  2015-02-18  2015-02-18 11:57:15  2015-02-18 12:12:48   \n",
       "2     Desktop - Chrome  2015-02-18  2015-02-18 13:02:13  2015-02-18 13:05:36   \n",
       "3     Desktop - Chrome  2015-02-18  2015-02-18 14:18:17  2015-02-18 14:28:47   \n",
       "4     Desktop - Chrome  2015-02-19  2015-02-19 12:24:57  2015-02-19 12:24:59   \n",
       "\n",
       "   did_search  sent_message            ...              \\\n",
       "0           0             0            ...               \n",
       "1           0             0            ...               \n",
       "2           0             0            ...               \n",
       "3           0             0            ...               \n",
       "4           0             0            ...               \n",
       "\n",
       "                    next_id_session next_dim_session_number  \\\n",
       "0  b812bf56bf89b0b31f4e5b50d0c15ff8                    84.0   \n",
       "1  456083b5f5506ad125d595006819de1d                    85.0   \n",
       "2  94d30e9f3c8f92ae691e49d77a884777                    86.0   \n",
       "3  ab02139dc81bea4b126cf5043faf53d9                    87.0   \n",
       "4  6a69db1a5876e9798947f20e2c52bcc8                    88.0   \n",
       "\n",
       "                                 next_dim_user_agent  \\\n",
       "0  Mozilla/5.0 (Windows NT 6.1; WOW64) AppleWebKi...   \n",
       "1  Mozilla/5.0 (Windows NT 6.1; WOW64) AppleWebKi...   \n",
       "2  Mozilla/5.0 (Windows NT 6.1; WOW64) AppleWebKi...   \n",
       "3  Mozilla/5.0 (Windows NT 6.1; WOW64) AppleWebKi...   \n",
       "4  Mozilla/5.0 (Windows NT 6.1; WOW64) AppleWebKi...   \n",
       "\n",
       "  next_dim_device_app_combo     next_ds          next_ts_min  \\\n",
       "0          Desktop - Chrome  2015-02-18  2015-02-18 11:57:15   \n",
       "1          Desktop - Chrome  2015-02-18  2015-02-18 13:02:13   \n",
       "2          Desktop - Chrome  2015-02-18  2015-02-18 14:18:17   \n",
       "3          Desktop - Chrome  2015-02-19  2015-02-19 12:24:57   \n",
       "4          Desktop - Chrome  2015-02-19  2015-02-19 22:21:58   \n",
       "\n",
       "           next_ts_max next_did_search  next_sent_message  \\\n",
       "0  2015-02-18 12:12:48             0.0                0.0   \n",
       "1  2015-02-18 13:05:36             0.0                0.0   \n",
       "2  2015-02-18 14:28:47             0.0                0.0   \n",
       "3  2015-02-19 12:24:59             0.0                0.0   \n",
       "4  2015-02-19 22:22:02             0.0                0.0   \n",
       "\n",
       "   next_sent_booking_request  \n",
       "0                        0.0  \n",
       "1                        0.0  \n",
       "2                        0.0  \n",
       "3                        0.0  \n",
       "4                        0.0  \n",
       "\n",
       "[5 rows x 21 columns]"
      ]
     },
     "execution_count": 5,
     "metadata": {},
     "output_type": "execute_result"
    }
   ],
   "source": [
    "data.head()"
   ]
  },
  {
   "cell_type": "code",
   "execution_count": 7,
   "metadata": {
    "collapsed": false
   },
   "outputs": [],
   "source": [
    "# Convert timestamp columns from string into python datetime objects.\n",
    "data['ts_min'] = pd.to_datetime(data['ts_min'])\n",
    "data['ts_max'] = pd.to_datetime(data['ts_max'])\n",
    "data['ds'] = pd.to_datetime(data['ds'])"
   ]
  },
  {
   "cell_type": "markdown",
   "metadata": {},
   "source": [
    "## Question 1\n",
    "1) Determine how many unique users are represented in this sample."
   ]
  },
  {
   "cell_type": "code",
   "execution_count": 8,
   "metadata": {
    "collapsed": false
   },
   "outputs": [
    {
     "name": "stdout",
     "output_type": "stream",
     "text": [
      "Total Rows: 7756 \n",
      "Unique Users: 630\n"
     ]
    }
   ],
   "source": [
    "# The data table is seperated into a list of groups of data, based on the column name \"id_visitor\".\n",
    "# The size of this list of groups represents the number of unique users in the sample.\n",
    "\n",
    "total_rows = len(data.index)\n",
    "unique_users = len(data.groupby(\"id_visitor\"))\n",
    "\n",
    "print \"Total Rows: {} \\nUnique Users: {}\".format(total_rows, unique_users)"
   ]
  },
  {
   "cell_type": "markdown",
   "metadata": {},
   "source": [
    "## Question 2\n",
    "2) Determine the proportion of sessions that result in a booking request being sent."
   ]
  },
  {
   "cell_type": "code",
   "execution_count": 9,
   "metadata": {
    "collapsed": false
   },
   "outputs": [
    {
     "name": "stdout",
     "output_type": "stream",
     "text": [
      "Number of booking requests: 138 \n",
      "Percentage of requests that result in booking: %1.78\n"
     ]
    }
   ],
   "source": [
    "# Find all rows when 'next_sent_booking_request' column was greater than 0 (True).\n",
    "\n",
    "total_booking_request = len(data.loc[data['next_sent_booking_request'] > 0])\n",
    "booking_percent = (total_booking_request/float(total_rows))*100\n",
    "\n",
    "print \"Number of booking requests: {} \\nPercentage of requests that result in booking: %{:.2f}\" \\\n",
    "    .format(total_booking_request, booking_percent)"
   ]
  },
  {
   "cell_type": "markdown",
   "metadata": {},
   "source": [
    "## Question 3\n",
    "3) Using the “dim_device_app_combo” data:\n",
    "- Determine the proportion of sessions where an iPad was the device employed by the user. \n",
    "- Construct a histogram showing the frequency distribution of devices employed by users."
   ]
  },
  {
   "cell_type": "code",
   "execution_count": 10,
   "metadata": {
    "collapsed": false
   },
   "outputs": [
    {
     "name": "stdout",
     "output_type": "stream",
     "text": [
      "Number of iPads used: 534 \n",
      "Percentage of devices that were ipads: %6.88\n"
     ]
    }
   ],
   "source": [
    "# Look for all rows whose \"dim_device_app_combo\" col contains the word iPad.\n",
    "\n",
    "total_ipads = len(data.loc[data['dim_device_app_combo'].str.contains(\"iPad\")])\n",
    "\n",
    "print \"Number of iPads used: {} \\nPercentage of devices that were ipads: %{:.2f}\" \\\n",
    "    .format(total_ipads, (total_ipads/float(total_rows))*100)"
   ]
  },
  {
   "cell_type": "code",
   "execution_count": 11,
   "metadata": {
    "collapsed": false
   },
   "outputs": [
    {
     "name": "stdout",
     "output_type": "stream",
     "text": [
      "dim_device_app_combo\n",
      "Android Tablet - Moweb         2\n",
      "Android Tablet - Android      14\n",
      "Android Phone - Moweb         72\n",
      "Android Phone - Web          112\n",
      "iPad - iOS                   121\n",
      "Unknown - Moweb              122\n",
      "Other - Other                267\n",
      "Android Tablet - Web         299\n",
      "Desktop - Firefox            327\n",
      "iPad - Web                   413\n",
      "Desktop - IE                 429\n",
      "iPhone - Moweb               429\n",
      "Desktop - Safari             443\n",
      "Android Phone - Android      451\n",
      "iPhone - Web                 944\n",
      "Desktop - Chrome            1181\n",
      "iPhone - iOS                2130\n",
      "dtype: int64\n"
     ]
    }
   ],
   "source": [
    "#frequency distribution\n",
    "graph = (data.groupby('dim_device_app_combo').size()).sort_values()\n",
    "print graph"
   ]
  },
  {
   "cell_type": "code",
   "execution_count": 12,
   "metadata": {
    "collapsed": false
   },
   "outputs": [
    {
     "data": {
      "text/plain": [
       "<matplotlib.text.Text at 0x114ed8290>"
      ]
     },
     "execution_count": 12,
     "metadata": {},
     "output_type": "execute_result"
    },
    {
     "data": {
      "image/png": "[encoded data removed]",
      "text/plain": [
       "<matplotlib.figure.Figure at 0x114bcf110>"
      ]
     },
     "metadata": {},
     "output_type": "display_data"
    }
   ],
   "source": [
    "plot1 = graph.hist()\n",
    "plot1.set_title(\"Device Distribution\")\n",
    "plot1.set_xlabel(\"Number of Devices (#)\")\n",
    "plot1.set_ylabel(\"Device Types\")"
   ]
  },
  {
   "cell_type": "code",
   "execution_count": 13,
   "metadata": {
    "collapsed": false
   },
   "outputs": [
    {
     "data": {
      "text/plain": [
       "<matplotlib.text.Text at 0x115424150>"
      ]
     },
     "execution_count": 13,
     "metadata": {},
     "output_type": "execute_result"
    },
    {
     "data": {
      "image/png": "[encoded data removed]",
      "text/plain": [
       "<matplotlib.figure.Figure at 0x115099fd0>"
      ]
     },
     "metadata": {},
     "output_type": "display_data"
    }
   ],
   "source": [
    "# bar chat is also helpful for visualizing\n",
    "\n",
    "plot2 = graph.plot.bar()\n",
    "plot2.set_title(\"Device Distribution\")\n",
    "plot2.set_xlabel(\"Device Types\")\n",
    "plot2.set_ylabel(\"Number of Devices (#)\")"
   ]
  },
  {
   "cell_type": "markdown",
   "metadata": {},
   "source": [
    "## Question 4\n",
    "4) Using the “ts_min” and “ts_max” data:\n",
    "- Determine the duration of each session in minutes. \n",
    "- Describe the method used, including any data manipulation or filtering.\n",
    "- Compute the mean, median, mode, and the 90th percentile of the session durations in minutes. \n",
    "- Compute the standard deviation and variance of the session durations in minutes.\n",
    "- Construct a histogram showing the frequency distribution of the session durations in minutes."
   ]
  },
  {
   "cell_type": "code",
   "execution_count": 27,
   "metadata": {
    "collapsed": false
   },
   "outputs": [
    {
     "name": "stdout",
     "output_type": "stream",
     "text": [
      "first 30 records\n",
      "\n",
      "23 minutes\n",
      "15 minutes\n",
      "3 minutes\n",
      "10 minutes\n",
      "0 minutes\n",
      "0 minutes\n",
      "1 minutes\n",
      "4 minutes\n",
      "0 minutes\n",
      "27 minutes\n",
      "13 minutes\n",
      "26 minutes\n",
      "0 minutes\n",
      "3 minutes\n",
      "0 minutes\n",
      "2 minutes\n",
      "9 minutes\n",
      "0 minutes\n",
      "45 minutes\n",
      "0 minutes\n",
      "0 minutes\n",
      "18 minutes\n",
      "8 minutes\n",
      "22 minutes\n",
      "177 minutes\n",
      "3 minutes\n",
      "2 minutes\n",
      "27 minutes\n",
      "19 minutes\n",
      "146 minutes\n"
     ]
    }
   ],
   "source": [
    "# Describe method:\n",
    "# in order to accomplish this, I converted the string columns \"ts_max\" and \"ts_min\", in the csv file\n",
    "# to a python datetime type. Python datetime objects support addition and subtraction of times,\n",
    "# so it was as easy as subtracting the two columns\n",
    "\n",
    "session_durations = data['ts_max'] - data['ts_min']\n",
    "\n",
    "# convert time delta into seconds, then divide number into minutes\n",
    "\n",
    "def convertToMinutes(duration):\n",
    "    return duration.seconds/60\n",
    "\n",
    "minutes = session_durations.apply(convertToMinutes)\n",
    "print \"first 30 records\\n\"\n",
    "for i in range(30):\n",
    "    print \"{} minutes\".format(minutes[i])"
   ]
  },
  {
   "cell_type": "code",
   "execution_count": 28,
   "metadata": {
    "collapsed": false
   },
   "outputs": [
    {
     "name": "stdout",
     "output_type": "stream",
     "text": [
      "Mean: 10.42 \n",
      "Median: 1.0 \n",
      "90th Percentile: 29.0 \n",
      "Mode: 0    0\n",
      "dtype: int64\n"
     ]
    }
   ],
   "source": [
    "# duration calculations\n",
    "\n",
    "mean = minutes.mean()\n",
    "median = minutes.median()\n",
    "percentile = minutes.quantile(0.9)\n",
    "mode = minutes.mode()\n",
    "print \"Mean: {:.2f} \\nMedian: {} \\n90th Percentile: {} \\nMode: {}\".format(mean,median,percentile,mode)"
   ]
  },
  {
   "cell_type": "code",
   "execution_count": 29,
   "metadata": {
    "collapsed": false
   },
   "outputs": [
    {
     "name": "stdout",
     "output_type": "stream",
     "text": [
      "Standard Deviation: 27.24 \n",
      "Variance: 742.02\n"
     ]
    }
   ],
   "source": [
    "# standard deviation and variance of the session durations in minutes\n",
    "\n",
    "std_dev = minutes.std()\n",
    "variance= minutes.var()\n",
    "print \"Standard Deviation: {:.2f} \\nVariance: {:.2f}\".format(std_dev, variance)"
   ]
  },
  {
   "cell_type": "code",
   "execution_count": 30,
   "metadata": {
    "collapsed": false
   },
   "outputs": [
    {
     "data": {
      "text/plain": [
       "<matplotlib.text.Text at 0x115a36550>"
      ]
     },
     "execution_count": 30,
     "metadata": {},
     "output_type": "execute_result"
    },
    {
     "data": {
      "image/png": "[encoded data removed]",
      "text/plain": [
       "<matplotlib.figure.Figure at 0x114f2f6d0>"
      ]
     },
     "metadata": {},
     "output_type": "display_data"
    }
   ],
   "source": [
    "# create histogram\n",
    "\n",
    "plot3 = minutes.hist()\n",
    "plot3.set_title(\"Session Duration of Users\")\n",
    "plot3.set_xlabel(\"Times of Sessions (mins)\")\n",
    "plot3.set_ylabel(\"Number of Sessions\")"
   ]
  },
  {
   "cell_type": "markdown",
   "metadata": {},
   "source": [
    "## Question 5\n",
    "5) Using the “ds” data:\n",
    "- Determine the day of the week where users are most active.\n",
    "- Summarize user activity for each day of the week using a visualization of the data."
   ]
  },
  {
   "cell_type": "code",
   "execution_count": 31,
   "metadata": {
    "collapsed": false
   },
   "outputs": [
    {
     "data": {
      "text/plain": [
       "<matplotlib.text.Text at 0x115b9e310>"
      ]
     },
     "execution_count": 31,
     "metadata": {},
     "output_type": "execute_result"
    },
    {
     "data": {
      "image/png": "[encoded data removed]",
      "text/plain": [
       "<matplotlib.figure.Figure at 0x114bb2410>"
      ]
     },
     "metadata": {},
     "output_type": "display_data"
    }
   ],
   "source": [
    "# Create a function, and use .apply() to call that function\n",
    "# to change each element of the panda series/dataframe \n",
    "\n",
    "def getWeekday(date):\n",
    "    day = date.weekday()\n",
    "    if day == 0:\n",
    "        return \"Monday\"\n",
    "    elif day == 1:\n",
    "        return \"Tuesday\"\n",
    "    elif day == 2:\n",
    "        return \"Wednesday\"\n",
    "    elif day == 3:\n",
    "        return \"Thursday\"\n",
    "    elif day == 4:\n",
    "        return \"Friday\"\n",
    "    elif day == 5:\n",
    "        return \"Saturday\"\n",
    "    elif day == 6:\n",
    "        return \"Sunday\"\n",
    "        \n",
    "# create a series that contains datetimes converted into weekday strings\n",
    "# monday is 0, sunday is 6\n",
    "\n",
    "weekdays = data['ds'].apply(getWeekday)\n",
    "weekdays_grouped = weekdays.groupby(weekdays).size()\n",
    "\n",
    "plot4 = weekdays_grouped.plot(\"line\")\n",
    "plot4.set_title(\"Airbnb site usage by Weekday\")\n",
    "plot4.set_xlabel(\"Days of the Week\")\n",
    "plot4.set_ylabel(\"Number of Sessions (#)\")"
   ]
  },
  {
   "cell_type": "code",
   "execution_count": 32,
   "metadata": {
    "collapsed": false
   },
   "outputs": [
    {
     "name": "stdout",
     "output_type": "stream",
     "text": [
      "Users are most active on Mondays\n"
     ]
    }
   ],
   "source": [
    "print \"Users are most active on Mondays\""
   ]
  }
 ],
 "metadata": {
  "anaconda-cloud": {},
  "kernelspec": {
   "display_name": "Python [Root]",
   "language": "python",
   "name": "Python [Root]"
  },
  "language_info": {
   "codemirror_mode": {
    "name": "ipython",
    "version": 2
   },
   "file_extension": ".py",
   "mimetype": "text/x-python",
   "name": "python",
   "nbconvert_exporter": "python",
   "pygments_lexer": "ipython2",
   "version": "2.7.12"
  }
 },
 "nbformat": 4,
 "nbformat_minor": 0
}
